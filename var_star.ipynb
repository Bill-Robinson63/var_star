{
 "cells": [
  {
   "cell_type": "code",
   "execution_count": null,
   "metadata": {
    "collapsed": true
   },
   "outputs": [
    {
     "name": "stdout",
     "output_type": "stream",
     "text": [
      "   comment    star  maglimit special         auid   fov         dec   title  \\\n0           AX And      16.5    None  000-BBF-071  30.0  46:29:20.7  AX And   \n1           AX And      16.5    None  000-BBF-071  30.0  46:29:20.7  AX And   \n2           AX And      16.5    None  000-BBF-071  30.0  46:29:20.7  AX And   \n3           AX And      16.5    None  000-BBF-071  30.0  46:29:20.7  AX And   \n4           AX And      16.5    None  000-BBF-071  30.0  46:29:20.7  AX And   \n5           AX And      16.5    None  000-BBF-071  30.0  46:29:20.7  AX And   \n6           AX And      16.5    None  000-BBF-071  30.0  46:29:20.7  AX And   \n7           AX And      16.5    None  000-BBF-071  30.0  46:29:20.7  AX And   \n8           AX And      16.5    None  000-BBF-071  30.0  46:29:20.7  AX And   \n9           AX And      16.5    None  000-BBF-071  30.0  46:29:20.7  AX And   \n10          AX And      16.5    None  000-BBF-071  30.0  46:29:20.7  AX And   \n11          AX And      16.5    None  000-BBF-071  30.0  46:29:20.7  AX And   \n12          AX And      16.5    None  000-BBF-071  30.0  46:29:20.7  AX And   \n13          AX And      16.5    None  000-BBF-071  30.0  46:29:20.7  AX And   \n14          AX And      16.5    None  000-BBF-071  30.0  46:29:20.7  AX And   \n15          AX And      16.5    None  000-BBF-071  30.0  46:29:20.7  AX And   \n16          AX And      16.5    None  000-BBF-071  30.0  46:29:20.7  AX And   \n17          AX And      16.5    None  000-BBF-071  30.0  46:29:20.7  AX And   \n18          AX And      16.5    None  000-BBF-071  30.0  46:29:20.7  AX And   \n\n      dss  chartid                                         image_uri  \\\n0   False  16940AU  https://www.aavso.org/apps/vsp/chart/16940AU.png   \n1   False  16940AU  https://www.aavso.org/apps/vsp/chart/16940AU.png   \n2   False  16940AU  https://www.aavso.org/apps/vsp/chart/16940AU.png   \n3   False  16940AU  https://www.aavso.org/apps/vsp/chart/16940AU.png   \n4   False  16940AU  https://www.aavso.org/apps/vsp/chart/16940AU.png   \n5   False  16940AU  https://www.aavso.org/apps/vsp/chart/16940AU.png   \n6   False  16940AU  https://www.aavso.org/apps/vsp/chart/16940AU.png   \n7   False  16940AU  https://www.aavso.org/apps/vsp/chart/16940AU.png   \n8   False  16940AU  https://www.aavso.org/apps/vsp/chart/16940AU.png   \n9   False  16940AU  https://www.aavso.org/apps/vsp/chart/16940AU.png   \n10  False  16940AU  https://www.aavso.org/apps/vsp/chart/16940AU.png   \n11  False  16940AU  https://www.aavso.org/apps/vsp/chart/16940AU.png   \n12  False  16940AU  https://www.aavso.org/apps/vsp/chart/16940AU.png   \n13  False  16940AU  https://www.aavso.org/apps/vsp/chart/16940AU.png   \n14  False  16940AU  https://www.aavso.org/apps/vsp/chart/16940AU.png   \n15  False  16940AU  https://www.aavso.org/apps/vsp/chart/16940AU.png   \n16  False  16940AU  https://www.aavso.org/apps/vsp/chart/16940AU.png   \n17  False  16940AU  https://www.aavso.org/apps/vsp/chart/16940AU.png   \n18  False  16940AU  https://www.aavso.org/apps/vsp/chart/16940AU.png   \n\n             ra                                         photometry  resolution  \n0   02:32:46.10  {'auid': '000-BBF-049', 'bands': [{'band': 'U'...          75  \n1   02:32:46.10  {'auid': '000-BBF-073', 'bands': [{'band': 'B'...          75  \n2   02:32:46.10  {'auid': '000-BJX-913', 'bands': [{'band': 'B'...          75  \n3   02:32:46.10  {'auid': '000-BBF-064', 'bands': [{'band': 'B'...          75  \n4   02:32:46.10  {'auid': '000-BFT-671', 'bands': [{'band': 'V'...          75  \n5   02:32:46.10  {'auid': '000-BBF-082', 'bands': [{'band': 'H'...          75  \n6   02:32:46.10  {'auid': '000-BFT-672', 'bands': [{'band': 'B'...          75  \n7   02:32:46.10  {'auid': '000-BBF-068', 'bands': [{'band': 'H'...          75  \n8   02:32:46.10  {'auid': '000-BBF-079', 'bands': [{'band': 'V'...          75  \n9   02:32:46.10  {'auid': '000-BBF-067', 'bands': [{'band': 'H'...          75  \n10  02:32:46.10  {'auid': '000-BFT-670', 'bands': [{'band': 'Ic...          75  \n11  02:32:46.10  {'auid': '000-BFT-673', 'bands': [{'band': 'Rc...          75  \n12  02:32:46.10  {'auid': '000-BFT-674', 'bands': [{'band': 'V'...          75  \n13  02:32:46.10  {'auid': '000-BFT-675', 'bands': [{'band': 'Ic...          75  \n14  02:32:46.10  {'auid': '000-BFT-676', 'bands': [{'band': 'Ic...          75  \n15  02:32:46.10  {'auid': '000-BFT-677', 'bands': [{'band': 'V'...          75  \n16  02:32:46.10  {'auid': '000-BFT-678', 'bands': [{'band': 'Ic...          75  \n17  02:32:46.10  {'auid': '000-BFT-679', 'bands': [{'band': 'V'...          75  \n18  02:32:46.10  {'auid': '000-BFT-680', 'bands': [{'band': 'V'...          75  \n"
     ]
    }
   ],
   "source": [
    "import requests\n",
    "import json\n",
    "import pandas as pd\n",
    "from scipy.fftpack import fft, ifft\n",
    "\n",
    "response = requests.get('https://www.aavso.org/apps/vsp/api/chart/16940AU/?format=json')\n",
    "data = response.json()\n",
    "df = pd.DataFrame(data)\n",
    "print(df)\n",
    "\n"
   ]
  },
  {
   "cell_type": "code",
   "execution_count": null,
   "metadata": {},
   "outputs": [],
   "source": []
  }
 ],
 "metadata": {
  "kernelspec": {
   "display_name": "Python 2",
   "language": "python",
   "name": "python2"
  },
  "language_info": {
   "codemirror_mode": {
    "name": "ipython",
    "version": 2
   },
   "file_extension": ".py",
   "mimetype": "text/x-python",
   "name": "python",
   "nbconvert_exporter": "python",
   "pygments_lexer": "ipython2",
   "version": "2.7.6"
  }
 },
 "nbformat": 4,
 "nbformat_minor": 0
}
